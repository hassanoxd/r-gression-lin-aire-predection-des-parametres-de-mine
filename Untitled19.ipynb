{
  "nbformat": 4,
  "nbformat_minor": 0,
  "metadata": {
    "colab": {
      "name": "Untitled19.ipynb",
      "provenance": [],
      "collapsed_sections": []
    },
    "kernelspec": {
      "name": "python3",
      "display_name": "Python 3"
    }
  },
  "cells": [
    {
      "cell_type": "markdown",
      "metadata": {
        "id": "7UWDk90EVU6S"
      },
      "source": [
        "importation du dataset"
      ]
    },
    {
      "cell_type": "code",
      "metadata": {
        "colab": {
          "base_uri": "https://localhost:8080/"
        },
        "id": "Su0Jw1cwU7wN",
        "outputId": "d4c53fe2-1a2d-40f4-bccb-1cc5d73c431c"
      },
      "source": [
        "import pandas as pd\r\n",
        "\r\n",
        "df = pd.read_excel ('datta.xlsx')\r\n",
        "\r\n",
        "print (df)"
      ],
      "execution_count": null,
      "outputs": [
        {
          "output_type": "stream",
          "text": [
            "     N°d’echantillon       V1       V2       V3  ...    P12    D1   D2  Cd\n",
            "0                  1  9894.21  1429.93  20675.9  ...  18.69  43.7  231   _\n",
            "1                  2  3757.44  8855.25  15787.3  ...  20.53  34.6  214   _\n",
            "2                  3  1193.07  7078.27  11328.7  ...  20.63  34.2  218   _\n",
            "3                  4  2359.81  11261.3  17178.9  ...  23.52  23.3  202   _\n",
            "4                  5  8874.31  6194.36  13331.3  ...  22.45  27.3  208   _\n",
            "..               ...      ...      ...      ...  ...    ...   ...  ...  ..\n",
            "587              588     3122     9676    11683  ...  20.21  36.0  203  22\n",
            "588              589     1362    11370    11812  ...  21.09  32.5  188   _\n",
            "589              590        0    12931    11591  ...  20.62  34.3  199   _\n",
            "590              591       86    13354     9052  ...  20.46  34.9  203   _\n",
            "591              592        _        _        _  ...  26.22  16.7  202   _\n",
            "\n",
            "[592 rows x 29 columns]\n"
          ],
          "name": "stdout"
        }
      ]
    },
    {
      "cell_type": "code",
      "metadata": {
        "colab": {
          "base_uri": "https://localhost:8080/"
        },
        "id": "TtQ79kzwVgdl",
        "outputId": "e6d8cf40-207f-4917-f192-5f3da860556c"
      },
      "source": [
        "print(df)"
      ],
      "execution_count": null,
      "outputs": [
        {
          "output_type": "stream",
          "text": [
            "     N°d’echantillon       V1       V2       V3  ...    P12    D1   D2  Cd\n",
            "0                  1  9894.21  1429.93  20675.9  ...  18.69  43.7  231   _\n",
            "1                  2  3757.44  8855.25  15787.3  ...  20.53  34.6  214   _\n",
            "2                  3  1193.07  7078.27  11328.7  ...  20.63  34.2  218   _\n",
            "3                  4  2359.81  11261.3  17178.9  ...  23.52  23.3  202   _\n",
            "4                  5  8874.31  6194.36  13331.3  ...  22.45  27.3  208   _\n",
            "..               ...      ...      ...      ...  ...    ...   ...  ...  ..\n",
            "587              588     3122     9676    11683  ...  20.21  36.0  203  22\n",
            "588              589     1362    11370    11812  ...  21.09  32.5  188   _\n",
            "589              590        0    12931    11591  ...  20.62  34.3  199   _\n",
            "590              591       86    13354     9052  ...  20.46  34.9  203   _\n",
            "591              592        _        _        _  ...  26.22  16.7  202   _\n",
            "\n",
            "[592 rows x 29 columns]\n"
          ],
          "name": "stdout"
        }
      ]
    },
    {
      "cell_type": "code",
      "metadata": {
        "colab": {
          "base_uri": "https://localhost:8080/",
          "height": 204
        },
        "id": "ePCsRVcJVghB",
        "outputId": "79b54d25-49c2-49d6-8a3a-58dfd1620fdf"
      },
      "source": [
        "mycolumns = ['P1','P2','P3','P4','P5','P6','P7','P8','P9','P10','P11','P12','D1','D2','M2']\r\n",
        "data=df[mycolumns]\r\n",
        "data.head()"
      ],
      "execution_count": null,
      "outputs": [
        {
          "output_type": "execute_result",
          "data": {
            "text/html": [
              "<div>\n",
              "<style scoped>\n",
              "    .dataframe tbody tr th:only-of-type {\n",
              "        vertical-align: middle;\n",
              "    }\n",
              "\n",
              "    .dataframe tbody tr th {\n",
              "        vertical-align: top;\n",
              "    }\n",
              "\n",
              "    .dataframe thead th {\n",
              "        text-align: right;\n",
              "    }\n",
              "</style>\n",
              "<table border=\"1\" class=\"dataframe\">\n",
              "  <thead>\n",
              "    <tr style=\"text-align: right;\">\n",
              "      <th></th>\n",
              "      <th>P1</th>\n",
              "      <th>P2</th>\n",
              "      <th>P3</th>\n",
              "      <th>P4</th>\n",
              "      <th>P5</th>\n",
              "      <th>P6</th>\n",
              "      <th>P7</th>\n",
              "      <th>P8</th>\n",
              "      <th>P9</th>\n",
              "      <th>P10</th>\n",
              "      <th>P11</th>\n",
              "      <th>P12</th>\n",
              "      <th>D1</th>\n",
              "      <th>D2</th>\n",
              "      <th>M2</th>\n",
              "    </tr>\n",
              "  </thead>\n",
              "  <tbody>\n",
              "    <tr>\n",
              "      <th>0</th>\n",
              "      <td>99.29</td>\n",
              "      <td>97.17</td>\n",
              "      <td>91.95</td>\n",
              "      <td>83.51</td>\n",
              "      <td>75.27</td>\n",
              "      <td>60.37</td>\n",
              "      <td>56.78</td>\n",
              "      <td>27.67</td>\n",
              "      <td>21.97</td>\n",
              "      <td>20.07</td>\n",
              "      <td>19.26</td>\n",
              "      <td>18.69</td>\n",
              "      <td>43.7</td>\n",
              "      <td>231</td>\n",
              "      <td>5.10</td>\n",
              "    </tr>\n",
              "    <tr>\n",
              "      <th>1</th>\n",
              "      <td>99.67</td>\n",
              "      <td>98.23</td>\n",
              "      <td>94.10</td>\n",
              "      <td>86.76</td>\n",
              "      <td>79.19</td>\n",
              "      <td>64.73</td>\n",
              "      <td>61.12</td>\n",
              "      <td>30.40</td>\n",
              "      <td>24.12</td>\n",
              "      <td>22.04</td>\n",
              "      <td>21.16</td>\n",
              "      <td>20.53</td>\n",
              "      <td>34.6</td>\n",
              "      <td>214</td>\n",
              "      <td>5.44</td>\n",
              "    </tr>\n",
              "    <tr>\n",
              "      <th>2</th>\n",
              "      <td>99.51</td>\n",
              "      <td>97.86</td>\n",
              "      <td>93.42</td>\n",
              "      <td>85.83</td>\n",
              "      <td>78.17</td>\n",
              "      <td>63.83</td>\n",
              "      <td>60.30</td>\n",
              "      <td>30.48</td>\n",
              "      <td>24.27</td>\n",
              "      <td>22.16</td>\n",
              "      <td>21.27</td>\n",
              "      <td>20.63</td>\n",
              "      <td>34.2</td>\n",
              "      <td>218</td>\n",
              "      <td>5.20</td>\n",
              "    </tr>\n",
              "    <tr>\n",
              "      <th>3</th>\n",
              "      <td>99.93</td>\n",
              "      <td>99.00</td>\n",
              "      <td>95.55</td>\n",
              "      <td>88.94</td>\n",
              "      <td>81.93</td>\n",
              "      <td>68.25</td>\n",
              "      <td>64.79</td>\n",
              "      <td>34.18</td>\n",
              "      <td>27.45</td>\n",
              "      <td>25.17</td>\n",
              "      <td>24.21</td>\n",
              "      <td>23.52</td>\n",
              "      <td>23.3</td>\n",
              "      <td>202</td>\n",
              "      <td>6.41</td>\n",
              "    </tr>\n",
              "    <tr>\n",
              "      <th>4</th>\n",
              "      <td>100.00</td>\n",
              "      <td>99.21</td>\n",
              "      <td>95.38</td>\n",
              "      <td>88.04</td>\n",
              "      <td>80.38</td>\n",
              "      <td>65.88</td>\n",
              "      <td>62.31</td>\n",
              "      <td>32.44</td>\n",
              "      <td>26.23</td>\n",
              "      <td>24.07</td>\n",
              "      <td>23.13</td>\n",
              "      <td>22.45</td>\n",
              "      <td>27.3</td>\n",
              "      <td>208</td>\n",
              "      <td>3.84</td>\n",
              "    </tr>\n",
              "  </tbody>\n",
              "</table>\n",
              "</div>"
            ],
            "text/plain": [
              "       P1     P2     P3     P4     P5  ...    P11    P12    D1   D2    M2\n",
              "0   99.29  97.17  91.95  83.51  75.27  ...  19.26  18.69  43.7  231  5.10\n",
              "1   99.67  98.23  94.10  86.76  79.19  ...  21.16  20.53  34.6  214  5.44\n",
              "2   99.51  97.86  93.42  85.83  78.17  ...  21.27  20.63  34.2  218  5.20\n",
              "3   99.93  99.00  95.55  88.94  81.93  ...  24.21  23.52  23.3  202  6.41\n",
              "4  100.00  99.21  95.38  88.04  80.38  ...  23.13  22.45  27.3  208  3.84\n",
              "\n",
              "[5 rows x 15 columns]"
            ]
          },
          "metadata": {
            "tags": []
          },
          "execution_count": 4
        }
      ]
    },
    {
      "cell_type": "code",
      "metadata": {
        "colab": {
          "base_uri": "https://localhost:8080/"
        },
        "id": "ToHR3fFsVgk7",
        "outputId": "3b22a40f-6302-4041-e7cb-ec74b45dd724"
      },
      "source": [
        "print(data)"
      ],
      "execution_count": null,
      "outputs": [
        {
          "output_type": "stream",
          "text": [
            "         P1     P2     P3     P4     P5  ...    P11    P12    D1   D2    M2\n",
            "0     99.29  97.17  91.95  83.51  75.27  ...  19.26  18.69  43.7  231  5.10\n",
            "1     99.67  98.23  94.10  86.76  79.19  ...  21.16  20.53  34.6  214  5.44\n",
            "2     99.51  97.86  93.42  85.83  78.17  ...  21.27  20.63  34.2  218  5.20\n",
            "3     99.93  99.00  95.55  88.94  81.93  ...  24.21  23.52  23.3  202  6.41\n",
            "4    100.00  99.21  95.38  88.04  80.38  ...  23.13  22.45  27.3  208  3.84\n",
            "..      ...    ...    ...    ...    ...  ...    ...    ...   ...  ...   ...\n",
            "587  100.00  99.33  95.91  89.04  81.63  ...  20.85  20.21  36.0  203  3.50\n",
            "588  100.00  99.93  97.54  91.85  85.21  ...  21.78  21.09  32.5  188  4.20\n",
            "589  100.00  99.92  96.98  90.25  82.71  ...  21.27  20.62  34.3  199  3.59\n",
            "590  100.00  99.34  95.93  89.08  81.67  ...  21.08  20.46  34.9  203  1.56\n",
            "591   99.84  98.79  95.24  88.64  81.76  ...  26.94  26.22  16.7  202  4.88\n",
            "\n",
            "[592 rows x 15 columns]\n"
          ],
          "name": "stdout"
        }
      ]
    },
    {
      "cell_type": "code",
      "metadata": {
        "colab": {
          "base_uri": "https://localhost:8080/"
        },
        "id": "kR0BhO_5Vgmm",
        "outputId": "13b8b8bc-a720-47ab-8b15-8bee27eeec04"
      },
      "source": [
        "data.info()"
      ],
      "execution_count": null,
      "outputs": [
        {
          "output_type": "stream",
          "text": [
            "<class 'pandas.core.frame.DataFrame'>\n",
            "RangeIndex: 592 entries, 0 to 591\n",
            "Data columns (total 15 columns):\n",
            " #   Column  Non-Null Count  Dtype  \n",
            "---  ------  --------------  -----  \n",
            " 0   P1      592 non-null    float64\n",
            " 1   P2      592 non-null    float64\n",
            " 2   P3      592 non-null    float64\n",
            " 3   P4      592 non-null    float64\n",
            " 4   P5      592 non-null    float64\n",
            " 5   P6      592 non-null    float64\n",
            " 6   P7      592 non-null    float64\n",
            " 7   P8      592 non-null    float64\n",
            " 8   P9      592 non-null    float64\n",
            " 9   P10     592 non-null    float64\n",
            " 10  P11     592 non-null    float64\n",
            " 11  P12     592 non-null    float64\n",
            " 12  D1      592 non-null    float64\n",
            " 13  D2      592 non-null    int64  \n",
            " 14  M2      592 non-null    float64\n",
            "dtypes: float64(14), int64(1)\n",
            "memory usage: 69.5 KB\n"
          ],
          "name": "stdout"
        }
      ]
    },
    {
      "cell_type": "code",
      "metadata": {
        "colab": {
          "base_uri": "https://localhost:8080/"
        },
        "id": "kaaBC__AWhWE",
        "outputId": "7b4d81a5-dcc1-46c2-de17-288a4c8be736"
      },
      "source": [
        "nbr=data.isnull().sum()\r\n",
        "print(nbr)"
      ],
      "execution_count": null,
      "outputs": [
        {
          "output_type": "stream",
          "text": [
            "P1     0\n",
            "P2     0\n",
            "P3     0\n",
            "P4     0\n",
            "P5     0\n",
            "P6     0\n",
            "P7     0\n",
            "P8     0\n",
            "P9     0\n",
            "P10    0\n",
            "P11    0\n",
            "P12    0\n",
            "D1     0\n",
            "D2     0\n",
            "M2     0\n",
            "dtype: int64\n"
          ],
          "name": "stdout"
        }
      ]
    },
    {
      "cell_type": "code",
      "metadata": {
        "colab": {
          "base_uri": "https://localhost:8080/",
          "height": 514
        },
        "id": "lMmOZoF0Ybcz",
        "outputId": "02fb90fa-d042-422b-a0d2-94c19353302a"
      },
      "source": [
        "data.corr()"
      ],
      "execution_count": null,
      "outputs": [
        {
          "output_type": "execute_result",
          "data": {
            "text/html": [
              "<div>\n",
              "<style scoped>\n",
              "    .dataframe tbody tr th:only-of-type {\n",
              "        vertical-align: middle;\n",
              "    }\n",
              "\n",
              "    .dataframe tbody tr th {\n",
              "        vertical-align: top;\n",
              "    }\n",
              "\n",
              "    .dataframe thead th {\n",
              "        text-align: right;\n",
              "    }\n",
              "</style>\n",
              "<table border=\"1\" class=\"dataframe\">\n",
              "  <thead>\n",
              "    <tr style=\"text-align: right;\">\n",
              "      <th></th>\n",
              "      <th>P1</th>\n",
              "      <th>P2</th>\n",
              "      <th>P3</th>\n",
              "      <th>P4</th>\n",
              "      <th>P5</th>\n",
              "      <th>P6</th>\n",
              "      <th>P7</th>\n",
              "      <th>P8</th>\n",
              "      <th>P9</th>\n",
              "      <th>P10</th>\n",
              "      <th>P11</th>\n",
              "      <th>P12</th>\n",
              "      <th>D1</th>\n",
              "      <th>D2</th>\n",
              "      <th>M2</th>\n",
              "    </tr>\n",
              "  </thead>\n",
              "  <tbody>\n",
              "    <tr>\n",
              "      <th>P1</th>\n",
              "      <td>1.000000</td>\n",
              "      <td>0.864718</td>\n",
              "      <td>0.245780</td>\n",
              "      <td>0.559166</td>\n",
              "      <td>0.476140</td>\n",
              "      <td>0.377658</td>\n",
              "      <td>0.288852</td>\n",
              "      <td>0.183718</td>\n",
              "      <td>0.111898</td>\n",
              "      <td>0.087513</td>\n",
              "      <td>0.079140</td>\n",
              "      <td>0.074710</td>\n",
              "      <td>-0.055145</td>\n",
              "      <td>-0.037861</td>\n",
              "      <td>-0.027094</td>\n",
              "    </tr>\n",
              "    <tr>\n",
              "      <th>P2</th>\n",
              "      <td>0.864718</td>\n",
              "      <td>1.000000</td>\n",
              "      <td>0.335206</td>\n",
              "      <td>0.805185</td>\n",
              "      <td>0.719951</td>\n",
              "      <td>0.612791</td>\n",
              "      <td>0.483381</td>\n",
              "      <td>0.373107</td>\n",
              "      <td>0.277451</td>\n",
              "      <td>0.247791</td>\n",
              "      <td>0.238490</td>\n",
              "      <td>0.234279</td>\n",
              "      <td>-0.224547</td>\n",
              "      <td>-0.092290</td>\n",
              "      <td>-0.008106</td>\n",
              "    </tr>\n",
              "    <tr>\n",
              "      <th>P3</th>\n",
              "      <td>0.245780</td>\n",
              "      <td>0.335206</td>\n",
              "      <td>1.000000</td>\n",
              "      <td>0.354114</td>\n",
              "      <td>0.337938</td>\n",
              "      <td>0.311649</td>\n",
              "      <td>0.246629</td>\n",
              "      <td>0.223999</td>\n",
              "      <td>0.181302</td>\n",
              "      <td>0.168701</td>\n",
              "      <td>0.165158</td>\n",
              "      <td>0.163963</td>\n",
              "      <td>-0.157006</td>\n",
              "      <td>-0.051879</td>\n",
              "      <td>0.020224</td>\n",
              "    </tr>\n",
              "    <tr>\n",
              "      <th>P4</th>\n",
              "      <td>0.559166</td>\n",
              "      <td>0.805185</td>\n",
              "      <td>0.354114</td>\n",
              "      <td>1.000000</td>\n",
              "      <td>0.989475</td>\n",
              "      <td>0.951564</td>\n",
              "      <td>0.758294</td>\n",
              "      <td>0.728503</td>\n",
              "      <td>0.604905</td>\n",
              "      <td>0.570171</td>\n",
              "      <td>0.561121</td>\n",
              "      <td>0.558501</td>\n",
              "      <td>-0.555427</td>\n",
              "      <td>-0.166720</td>\n",
              "      <td>0.108670</td>\n",
              "    </tr>\n",
              "    <tr>\n",
              "      <th>P5</th>\n",
              "      <td>0.476140</td>\n",
              "      <td>0.719951</td>\n",
              "      <td>0.337938</td>\n",
              "      <td>0.989475</td>\n",
              "      <td>1.000000</td>\n",
              "      <td>0.985049</td>\n",
              "      <td>0.787405</td>\n",
              "      <td>0.791469</td>\n",
              "      <td>0.669718</td>\n",
              "      <td>0.635432</td>\n",
              "      <td>0.626674</td>\n",
              "      <td>0.624388</td>\n",
              "      <td>-0.621775</td>\n",
              "      <td>-0.170909</td>\n",
              "      <td>0.135604</td>\n",
              "    </tr>\n",
              "    <tr>\n",
              "      <th>P6</th>\n",
              "      <td>0.377658</td>\n",
              "      <td>0.612791</td>\n",
              "      <td>0.311649</td>\n",
              "      <td>0.951564</td>\n",
              "      <td>0.985049</td>\n",
              "      <td>1.000000</td>\n",
              "      <td>0.803774</td>\n",
              "      <td>0.866501</td>\n",
              "      <td>0.755565</td>\n",
              "      <td>0.723133</td>\n",
              "      <td>0.714739</td>\n",
              "      <td>0.712568</td>\n",
              "      <td>-0.709524</td>\n",
              "      <td>-0.166525</td>\n",
              "      <td>0.168479</td>\n",
              "    </tr>\n",
              "    <tr>\n",
              "      <th>P7</th>\n",
              "      <td>0.288852</td>\n",
              "      <td>0.483381</td>\n",
              "      <td>0.246629</td>\n",
              "      <td>0.758294</td>\n",
              "      <td>0.787405</td>\n",
              "      <td>0.803774</td>\n",
              "      <td>1.000000</td>\n",
              "      <td>0.709490</td>\n",
              "      <td>0.621439</td>\n",
              "      <td>0.594778</td>\n",
              "      <td>0.587766</td>\n",
              "      <td>0.585734</td>\n",
              "      <td>-0.580806</td>\n",
              "      <td>-0.131406</td>\n",
              "      <td>0.117502</td>\n",
              "    </tr>\n",
              "    <tr>\n",
              "      <th>P8</th>\n",
              "      <td>0.183718</td>\n",
              "      <td>0.373107</td>\n",
              "      <td>0.223999</td>\n",
              "      <td>0.728503</td>\n",
              "      <td>0.791469</td>\n",
              "      <td>0.866501</td>\n",
              "      <td>0.709490</td>\n",
              "      <td>1.000000</td>\n",
              "      <td>0.978280</td>\n",
              "      <td>0.964021</td>\n",
              "      <td>0.958613</td>\n",
              "      <td>0.955742</td>\n",
              "      <td>-0.942687</td>\n",
              "      <td>-0.107497</td>\n",
              "      <td>0.252231</td>\n",
              "    </tr>\n",
              "    <tr>\n",
              "      <th>P9</th>\n",
              "      <td>0.111898</td>\n",
              "      <td>0.277451</td>\n",
              "      <td>0.181302</td>\n",
              "      <td>0.604905</td>\n",
              "      <td>0.669718</td>\n",
              "      <td>0.755565</td>\n",
              "      <td>0.621439</td>\n",
              "      <td>0.978280</td>\n",
              "      <td>1.000000</td>\n",
              "      <td>0.997700</td>\n",
              "      <td>0.995554</td>\n",
              "      <td>0.993619</td>\n",
              "      <td>-0.978101</td>\n",
              "      <td>-0.077527</td>\n",
              "      <td>0.267995</td>\n",
              "    </tr>\n",
              "    <tr>\n",
              "      <th>P10</th>\n",
              "      <td>0.087513</td>\n",
              "      <td>0.247791</td>\n",
              "      <td>0.168701</td>\n",
              "      <td>0.570171</td>\n",
              "      <td>0.635432</td>\n",
              "      <td>0.723133</td>\n",
              "      <td>0.594778</td>\n",
              "      <td>0.964021</td>\n",
              "      <td>0.997700</td>\n",
              "      <td>1.000000</td>\n",
              "      <td>0.999573</td>\n",
              "      <td>0.998605</td>\n",
              "      <td>-0.983567</td>\n",
              "      <td>-0.069265</td>\n",
              "      <td>0.271359</td>\n",
              "    </tr>\n",
              "    <tr>\n",
              "      <th>P11</th>\n",
              "      <td>0.079140</td>\n",
              "      <td>0.238490</td>\n",
              "      <td>0.165158</td>\n",
              "      <td>0.561121</td>\n",
              "      <td>0.626674</td>\n",
              "      <td>0.714739</td>\n",
              "      <td>0.587766</td>\n",
              "      <td>0.958613</td>\n",
              "      <td>0.995554</td>\n",
              "      <td>0.999573</td>\n",
              "      <td>1.000000</td>\n",
              "      <td>0.999583</td>\n",
              "      <td>-0.985221</td>\n",
              "      <td>-0.067051</td>\n",
              "      <td>0.271722</td>\n",
              "    </tr>\n",
              "    <tr>\n",
              "      <th>P12</th>\n",
              "      <td>0.074710</td>\n",
              "      <td>0.234279</td>\n",
              "      <td>0.163963</td>\n",
              "      <td>0.558501</td>\n",
              "      <td>0.624388</td>\n",
              "      <td>0.712568</td>\n",
              "      <td>0.585734</td>\n",
              "      <td>0.955742</td>\n",
              "      <td>0.993619</td>\n",
              "      <td>0.998605</td>\n",
              "      <td>0.999583</td>\n",
              "      <td>1.000000</td>\n",
              "      <td>-0.986059</td>\n",
              "      <td>-0.066265</td>\n",
              "      <td>0.272709</td>\n",
              "    </tr>\n",
              "    <tr>\n",
              "      <th>D1</th>\n",
              "      <td>-0.055145</td>\n",
              "      <td>-0.224547</td>\n",
              "      <td>-0.157006</td>\n",
              "      <td>-0.555427</td>\n",
              "      <td>-0.621775</td>\n",
              "      <td>-0.709524</td>\n",
              "      <td>-0.580806</td>\n",
              "      <td>-0.942687</td>\n",
              "      <td>-0.978101</td>\n",
              "      <td>-0.983567</td>\n",
              "      <td>-0.985221</td>\n",
              "      <td>-0.986059</td>\n",
              "      <td>1.000000</td>\n",
              "      <td>0.062980</td>\n",
              "      <td>-0.263930</td>\n",
              "    </tr>\n",
              "    <tr>\n",
              "      <th>D2</th>\n",
              "      <td>-0.037861</td>\n",
              "      <td>-0.092290</td>\n",
              "      <td>-0.051879</td>\n",
              "      <td>-0.166720</td>\n",
              "      <td>-0.170909</td>\n",
              "      <td>-0.166525</td>\n",
              "      <td>-0.131406</td>\n",
              "      <td>-0.107497</td>\n",
              "      <td>-0.077527</td>\n",
              "      <td>-0.069265</td>\n",
              "      <td>-0.067051</td>\n",
              "      <td>-0.066265</td>\n",
              "      <td>0.062980</td>\n",
              "      <td>1.000000</td>\n",
              "      <td>-0.036474</td>\n",
              "    </tr>\n",
              "    <tr>\n",
              "      <th>M2</th>\n",
              "      <td>-0.027094</td>\n",
              "      <td>-0.008106</td>\n",
              "      <td>0.020224</td>\n",
              "      <td>0.108670</td>\n",
              "      <td>0.135604</td>\n",
              "      <td>0.168479</td>\n",
              "      <td>0.117502</td>\n",
              "      <td>0.252231</td>\n",
              "      <td>0.267995</td>\n",
              "      <td>0.271359</td>\n",
              "      <td>0.271722</td>\n",
              "      <td>0.272709</td>\n",
              "      <td>-0.263930</td>\n",
              "      <td>-0.036474</td>\n",
              "      <td>1.000000</td>\n",
              "    </tr>\n",
              "  </tbody>\n",
              "</table>\n",
              "</div>"
            ],
            "text/plain": [
              "           P1        P2        P3  ...        D1        D2        M2\n",
              "P1   1.000000  0.864718  0.245780  ... -0.055145 -0.037861 -0.027094\n",
              "P2   0.864718  1.000000  0.335206  ... -0.224547 -0.092290 -0.008106\n",
              "P3   0.245780  0.335206  1.000000  ... -0.157006 -0.051879  0.020224\n",
              "P4   0.559166  0.805185  0.354114  ... -0.555427 -0.166720  0.108670\n",
              "P5   0.476140  0.719951  0.337938  ... -0.621775 -0.170909  0.135604\n",
              "P6   0.377658  0.612791  0.311649  ... -0.709524 -0.166525  0.168479\n",
              "P7   0.288852  0.483381  0.246629  ... -0.580806 -0.131406  0.117502\n",
              "P8   0.183718  0.373107  0.223999  ... -0.942687 -0.107497  0.252231\n",
              "P9   0.111898  0.277451  0.181302  ... -0.978101 -0.077527  0.267995\n",
              "P10  0.087513  0.247791  0.168701  ... -0.983567 -0.069265  0.271359\n",
              "P11  0.079140  0.238490  0.165158  ... -0.985221 -0.067051  0.271722\n",
              "P12  0.074710  0.234279  0.163963  ... -0.986059 -0.066265  0.272709\n",
              "D1  -0.055145 -0.224547 -0.157006  ...  1.000000  0.062980 -0.263930\n",
              "D2  -0.037861 -0.092290 -0.051879  ...  0.062980  1.000000 -0.036474\n",
              "M2  -0.027094 -0.008106  0.020224  ... -0.263930 -0.036474  1.000000\n",
              "\n",
              "[15 rows x 15 columns]"
            ]
          },
          "metadata": {
            "tags": []
          },
          "execution_count": 13
        }
      ]
    },
    {
      "cell_type": "code",
      "metadata": {
        "colab": {
          "base_uri": "https://localhost:8080/",
          "height": 295
        },
        "id": "9PDi9-VbbH0z",
        "outputId": "aa35687d-42c9-4266-d5e9-818747515623"
      },
      "source": [
        "#etude de la correlation\r\n",
        "import seaborn as sns\r\n",
        "matrice_corr = data.corr().round(1)\r\n",
        "sns.heatmap(data=matrice_corr, annot=True)"
      ],
      "execution_count": null,
      "outputs": [
        {
          "output_type": "execute_result",
          "data": {
            "text/plain": [
              "<matplotlib.axes._subplots.AxesSubplot at 0x7f14c7323f28>"
            ]
          },
          "metadata": {
            "tags": []
          },
          "execution_count": 21
        },
        {
          "output_type": "display_data",
          "data": {
            "image/png": "[encoded data removed]",
            "text/plain": [
              "<Figure size 432x288 with 2 Axes>"
            ]
          },
          "metadata": {
            "tags": [],
            "needs_background": "light"
          }
        }
      ]
    },
    {
      "cell_type": "code",
      "metadata": {
        "id": "qJ_vWclzWrGJ"
      },
      "source": [
        "import pandas as pd\r\n",
        "import numpy as np\r\n",
        "\r\n",
        "X=pd.DataFrame(np.c_[data['P1'],data['P2'],data['P3'],data['P4'],data['P5'],data['P6'],data['P7'],data['P8'],data['P9'],data['P10'],data['P11'],data['P12'],data['D1'],data['D2']], columns = ['P1','P2','P3','P4','P5','P6','P7','P8','P9','P10','P11','P12','D1','D2'])\r\n",
        "Y = data['M2']"
      ],
      "execution_count": null,
      "outputs": []
    },
    {
      "cell_type": "code",
      "metadata": {
        "colab": {
          "base_uri": "https://localhost:8080/",
          "height": 503
        },
        "id": "CNqLrKw0WrJH",
        "outputId": "af792a9e-5d31-47c7-dc06-dc038658704e"
      },
      "source": [
        "# linear regression feature importance\r\n",
        "from sklearn.linear_model import LinearRegression\r\n",
        "from matplotlib import pyplot\r\n",
        "# define dataset\r\n",
        "# define the model\r\n",
        "model = LinearRegression()\r\n",
        "# fit the model\r\n",
        "model.fit(X, Y)\r\n",
        "# get importance\r\n",
        "importance = model.coef_\r\n",
        "# summarize feature importance\r\n",
        "for i,v in enumerate(importance):\r\n",
        "\tprint('Feature: %0d, Score: %.5f' % (i,v))\r\n",
        "# plot feature importance\r\n",
        "pyplot.bar([x for x in range(len(importance))], importance)\r\n",
        "pyplot.show()"
      ],
      "execution_count": null,
      "outputs": [
        {
          "output_type": "stream",
          "text": [
            "Feature: 0, Score: 2.47386\n",
            "Feature: 1, Score: -1.93286\n",
            "Feature: 2, Score: -0.00424\n",
            "Feature: 3, Score: -0.58996\n",
            "Feature: 4, Score: 2.33727\n",
            "Feature: 5, Score: -1.77104\n",
            "Feature: 6, Score: -0.03630\n",
            "Feature: 7, Score: 2.05521\n",
            "Feature: 8, Score: -6.69926\n",
            "Feature: 9, Score: 12.51166\n",
            "Feature: 10, Score: -9.26028\n",
            "Feature: 11, Score: 2.28065\n",
            "Feature: 12, Score: 0.03752\n",
            "Feature: 13, Score: -0.00073\n"
          ],
          "name": "stdout"
        },
        {
          "output_type": "display_data",
          "data": {
            "image/png": "[encoded data removed]",
            "text/plain": [
              "<Figure size 432x288 with 1 Axes>"
            ]
          },
          "metadata": {
            "tags": [],
            "needs_background": "light"
          }
        }
      ]
    },
    {
      "cell_type": "code",
      "metadata": {
        "colab": {
          "base_uri": "https://localhost:8080/"
        },
        "id": "R8xVimDzWrMM",
        "outputId": "6870ea81-554e-4416-fd64-7aabec395981"
      },
      "source": [
        "print(model.predict([[99.29,97.17,91.95,83.51,75.27,60.37,56.78,27.67,21.97,20.07,19.26,18.69,43.70,231.00]]))"
      ],
      "execution_count": null,
      "outputs": [
        {
          "output_type": "stream",
          "text": [
            "[5.19143604]\n"
          ],
          "name": "stdout"
        }
      ]
    },
    {
      "cell_type": "markdown",
      "metadata": {
        "id": "KUCMcmosaEr5"
      },
      "source": [
        "RANDOM FOREST REGRESSOR"
      ]
    },
    {
      "cell_type": "code",
      "metadata": {
        "colab": {
          "base_uri": "https://localhost:8080/"
        },
        "id": "eq0Bp5xKYOWm",
        "outputId": "2976275a-2057-4cb9-8e07-0939811a04fb"
      },
      "source": [
        "# Fitting Random Forest Regression to the dataset \r\n",
        "# import the regressor \r\n",
        "from sklearn.ensemble import RandomForestRegressor \r\n",
        "  \r\n",
        " # create regressor object \r\n",
        "regressor = RandomForestRegressor(n_estimators = 100, random_state = 0) \r\n",
        "  \r\n",
        "# fit the regressor with x and y data \r\n",
        "regressor.fit(X, Y)"
      ],
      "execution_count": null,
      "outputs": [
        {
          "output_type": "execute_result",
          "data": {
            "text/plain": [
              "RandomForestRegressor(bootstrap=True, ccp_alpha=0.0, criterion='mse',\n",
              "                      max_depth=None, max_features='auto', max_leaf_nodes=None,\n",
              "                      max_samples=None, min_impurity_decrease=0.0,\n",
              "                      min_impurity_split=None, min_samples_leaf=1,\n",
              "                      min_samples_split=2, min_weight_fraction_leaf=0.0,\n",
              "                      n_estimators=100, n_jobs=None, oob_score=False,\n",
              "                      random_state=0, verbose=0, warm_start=False)"
            ]
          },
          "metadata": {
            "tags": []
          },
          "execution_count": 19
        }
      ]
    },
    {
      "cell_type": "code",
      "metadata": {
        "colab": {
          "base_uri": "https://localhost:8080/"
        },
        "id": "XLdIFWoXaKO9",
        "outputId": "8c5536b9-181b-42ea-8cb8-a90bdcf69ad5"
      },
      "source": [
        "print(regressor.predict([[99.29,97.17,91.95,83.51,75.27,60.37,56.78,27.67,21.97,20.07,19.26,18.69,43.70,231.00]]))"
      ],
      "execution_count": null,
      "outputs": [
        {
          "output_type": "stream",
          "text": [
            "[5.0624]\n"
          ],
          "name": "stdout"
        }
      ]
    },
    {
      "cell_type": "code",
      "metadata": {
        "id": "0zCb3uRrRxEr"
      },
      "source": [
        "import pickle\r\n",
        "pickle.dump(regressor,open('model.pkl','wb'))"
      ],
      "execution_count": 33,
      "outputs": []
    },
    {
      "cell_type": "code",
      "metadata": {
        "colab": {
          "base_uri": "https://localhost:8080/"
        },
        "id": "rjUzFmPKSPwC",
        "outputId": "e41c8b4d-899f-41ce-e61e-50e0b299ddd6"
      },
      "source": [
        "model=pickle.load(open('model.pkl','rb'))\r\n",
        "print(model.predict([[99.29,97.17,91.95,83.51,75.27,60.37,56.78,27.67,21.97,20.07,19.26,18.69,43.70,231.00]]))"
      ],
      "execution_count": 34,
      "outputs": [
        {
          "output_type": "stream",
          "text": [
            "[7.5346]\n"
          ],
          "name": "stdout"
        }
      ]
    },
    {
      "cell_type": "code",
      "metadata": {
        "colab": {
          "base_uri": "https://localhost:8080/"
        },
        "id": "8Kc191L7boy6",
        "outputId": "2c4ede72-b4dc-4bd2-df97-aef120dfdbf5"
      },
      "source": [
        "#on utilise seulement 4 variables explicatives\r\n",
        "X=pd.DataFrame(np.c_[data['P1'],data['P2'],data['P3'],data['P4'],data['P5'],data['P6'],data['P7'],data['P8'],data['P9'],data['P10'],data['P11'],data['P12'],data['D1'],data['D2']], columns = ['P1','P2','P3','P4','P5','P6','P7','P8','P9','P10','P11','P12','D1','D2'])\r\n",
        "Y = data['M2']\r\n",
        " \r\n",
        "#base d'apprentissage et base de test\r\n",
        "from sklearn.model_selection import train_test_split\r\n",
        " \r\n",
        "X_train, X_test, Y_train, Y_test = train_test_split(X, Y, test_size = 0.2, random_state=5)\r\n",
        "print(X_train.shape)\r\n",
        "print(X_test.shape)\r\n",
        "print(Y_train.shape)\r\n",
        "print(Y_test.shape)"
      ],
      "execution_count": null,
      "outputs": [
        {
          "output_type": "stream",
          "text": [
            "(473, 14)\n",
            "(119, 14)\n",
            "(473,)\n",
            "(119,)\n"
          ],
          "name": "stdout"
        }
      ]
    },
    {
      "cell_type": "code",
      "metadata": {
        "colab": {
          "base_uri": "https://localhost:8080/"
        },
        "id": "ceSh7QZdbo3M",
        "outputId": "d5291e2d-8650-4da8-e5f2-e69cf2e4bb6f"
      },
      "source": [
        "#entrainement du modèle\r\n",
        "from sklearn.linear_model import LinearRegression\r\n",
        "from sklearn.metrics import mean_squared_error\r\n",
        " \r\n",
        "lmodellineaire = LinearRegression()\r\n",
        "lmodellineaire.fit(X_train, Y_train)"
      ],
      "execution_count": null,
      "outputs": [
        {
          "output_type": "execute_result",
          "data": {
            "text/plain": [
              "LinearRegression(copy_X=True, fit_intercept=True, n_jobs=None, normalize=False)"
            ]
          },
          "metadata": {
            "tags": []
          },
          "execution_count": 23
        }
      ]
    },
    {
      "cell_type": "code",
      "metadata": {
        "colab": {
          "base_uri": "https://localhost:8080/"
        },
        "id": "DmzDoq4wbo59",
        "outputId": "06c840fe-54b0-43df-c79f-b7a8fe35141f"
      },
      "source": [
        "# Evaluation du training set\r\n",
        "from sklearn.metrics import r2_score\r\n",
        "y_train_predict = lmodellineaire.predict(X_train)\r\n",
        "rmse = (np.sqrt(mean_squared_error(Y_train, y_train_predict)))\r\n",
        "r2 = r2_score(Y_train, y_train_predict)\r\n",
        " \r\n",
        "print('La performance du modèle sur la base dapprentissage')\r\n",
        "print('--------------------------------------')\r\n",
        "print('Lerreur quadratique moyenne est {}'.format(rmse))\r\n",
        "print('le score R2 est {}'.format(r2))\r\n",
        "print('\\n')\r\n",
        " \r\n",
        "# model evaluation for testing set\r\n",
        "y_test_predict = lmodellineaire.predict(X_test)\r\n",
        "rmse = (np.sqrt(mean_squared_error(Y_test, y_test_predict)))\r\n",
        "r2 = r2_score(Y_test, y_test_predict)\r\n",
        " \r\n",
        "print('La performance du modèle sur la base de test')\r\n",
        "print('--------------------------------------')\r\n",
        "print('Lerreur quadratique moyenne est {}'.format(rmse))\r\n",
        "print('le score R2 est {}'.format(r2))"
      ],
      "execution_count": null,
      "outputs": [
        {
          "output_type": "stream",
          "text": [
            "La performance du modèle sur la base dapprentissage\n",
            "--------------------------------------\n",
            "Lerreur quadratique moyenne est 2.4926117307990006\n",
            "le score R2 est 0.07990760373654016\n",
            "\n",
            "\n",
            "La performance du modèle sur la base de test\n",
            "--------------------------------------\n",
            "Lerreur quadratique moyenne est 2.510658369224392\n",
            "le score R2 est 0.12561233387573667\n"
          ],
          "name": "stdout"
        }
      ]
    },
    {
      "cell_type": "code",
      "metadata": {
        "colab": {
          "base_uri": "https://localhost:8080/"
        },
        "id": "7WS9AbF8cBQN",
        "outputId": "2b801655-6e6e-43b7-e58a-2bfcc26fdc24"
      },
      "source": [
        "print(lmodellineaire.predict([[99.29,97.17,91.95,83.51,75.27,60.37,56.78,27.67,21.97,20.07,19.26,18.69,43.70,231.00]]))"
      ],
      "execution_count": null,
      "outputs": [
        {
          "output_type": "stream",
          "text": [
            "[5.32477976]\n"
          ],
          "name": "stdout"
        }
      ]
    },
    {
      "cell_type": "markdown",
      "metadata": {
        "id": "-9Uoh5EFc8NN"
      },
      "source": [
        "random forest splitting data"
      ]
    },
    {
      "cell_type": "code",
      "metadata": {
        "id": "XP9XD-tec_T6"
      },
      "source": [
        "from sklearn.preprocessing import StandardScaler\r\n",
        "\r\n",
        "sc = StandardScaler()\r\n",
        "X_train = sc.fit_transform(X_train)\r\n",
        "X_test = sc.transform(X_test)"
      ],
      "execution_count": null,
      "outputs": []
    },
    {
      "cell_type": "code",
      "metadata": {
        "id": "qCe9qIckdIbM"
      },
      "source": [
        "from sklearn.ensemble import RandomForestRegressor\r\n",
        "\r\n",
        "regressor = RandomForestRegressor(n_estimators=50, random_state=0)\r\n",
        "regressor.fit(X_train, Y_train)\r\n",
        "y_pred = regressor.predict(X_test)"
      ],
      "execution_count": null,
      "outputs": []
    },
    {
      "cell_type": "code",
      "metadata": {
        "colab": {
          "base_uri": "https://localhost:8080/"
        },
        "id": "Uj55FbmWdIee",
        "outputId": "6a7630c9-767b-495c-e033-1b7c297508bb"
      },
      "source": [
        "from sklearn import metrics\r\n",
        "\r\n",
        "print('Mean Absolute Error:', metrics.mean_absolute_error(Y_test, y_pred))\r\n",
        "print('Mean Squared Error:', metrics.mean_squared_error(Y_test, y_pred))\r\n",
        "print('Root Mean Squared Error:', np.sqrt(metrics.mean_squared_error(Y_test, y_pred)))"
      ],
      "execution_count": null,
      "outputs": [
        {
          "output_type": "stream",
          "text": [
            "Mean Absolute Error: 2.1122957983193285\n",
            "Mean Squared Error: 6.742174643361348\n",
            "Root Mean Squared Error: 2.5965697840345725\n"
          ],
          "name": "stdout"
        }
      ]
    },
    {
      "cell_type": "code",
      "metadata": {
        "colab": {
          "base_uri": "https://localhost:8080/"
        },
        "id": "GrKZiibOduqF",
        "outputId": "b0195639-75ef-4a40-a38c-c58b42ce6078"
      },
      "source": [
        "print(regressor.predict([[99.29,97.17,91.95,83.51,75.27,60.37,56.78,27.67,21.97,20.07,19.26,18.69,43.70,231.00]]))"
      ],
      "execution_count": null,
      "outputs": [
        {
          "output_type": "stream",
          "text": [
            "[7.5346]\n"
          ],
          "name": "stdout"
        }
      ]
    }
  ]
}